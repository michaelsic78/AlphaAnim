{
 "cells": [
  {
   "cell_type": "code",
   "execution_count": 1,
   "metadata": {},
   "outputs": [
    {
     "name": "stderr",
     "output_type": "stream",
     "text": [
      "usage: ipykernel_launcher.py [-h] [--triangle_sound TRIANGLE_SOUND]\n",
      "                             [--edge_sound EDGE_SOUND]\n",
      "                             [--death_sound DEATH_SOUND]\n",
      "                             [--birth_sound BIRTH_SOUND]\n",
      "ipykernel_launcher.py: error: unrecognized arguments: -f /Users/michael/Library/Jupyter/runtime/kernel-e424a462-4823-4709-8474-c214473be92a.json\n"
     ]
    },
    {
     "ename": "SystemExit",
     "evalue": "2",
     "output_type": "error",
     "traceback": [
      "An exception has occurred, use %tb to see the full traceback.\n",
      "\u001b[0;31mSystemExit\u001b[0m\u001b[0;31m:\u001b[0m 2\n"
     ]
    },
    {
     "name": "stderr",
     "output_type": "stream",
     "text": [
      "/opt/anaconda3/lib/python3.7/site-packages/IPython/core/interactiveshell.py:3339: UserWarning: To exit: use 'exit', 'quit', or Ctrl-D.\n",
      "  warn(\"To exit: use 'exit', 'quit', or Ctrl-D.\", stacklevel=1)\n"
     ]
    }
   ],
   "source": [
    "from alpha import *\n",
    "%load_ext autoreload\n",
    "%autoreload 2\n",
    "import IPython.display as ipd\n",
    "from instruments import *\n",
    "sr = 44100\n",
    "y = make_tune(\"Tunes/remix2.txt\", 0.2, 30000, fm_bell_note)\n",
    "x = make_tune(\"Tunes/remix.txt\" , 0.2, 30000, fm_dirty_bass_note)\n",
    "#z = make_tune(\"Tunes/remix3.txt\" , 0.2, 45000, fm_dirty_bass_note)\n",
    "y = y + x \n",
    "ipd.Audio(y, rate=sr)"
   ]
  },
  {
   "cell_type": "code",
   "execution_count": null,
   "metadata": {},
   "outputs": [],
   "source": [
    "scales = []\n",
    "png = 'snowman.png'\n",
    "run_alpha(png,scales)"
   ]
  },
  {
   "cell_type": "markdown",
   "metadata": {},
   "source": [
    "Allow user to upload a soundpack for each event occurance."
   ]
  },
  {
   "cell_type": "code",
   "execution_count": null,
   "metadata": {},
   "outputs": [],
   "source": []
  }
 ],
 "metadata": {
  "kernelspec": {
   "display_name": "Python 3",
   "language": "python",
   "name": "python3"
  },
  "language_info": {
   "codemirror_mode": {
    "name": "ipython",
    "version": 3
   },
   "file_extension": ".py",
   "mimetype": "text/x-python",
   "name": "python",
   "nbconvert_exporter": "python",
   "pygments_lexer": "ipython3",
   "version": "3.7.6"
  }
 },
 "nbformat": 4,
 "nbformat_minor": 4
}
